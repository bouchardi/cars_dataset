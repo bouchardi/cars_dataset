{
 "cells": [
  {
   "cell_type": "markdown",
   "id": "ca79e59a",
   "metadata": {},
   "source": [
    "# Cars Dataset"
   ]
  },
  {
   "cell_type": "code",
   "execution_count": 1,
   "id": "c2c65b8a",
   "metadata": {},
   "outputs": [],
   "source": [
    "import numpy as np\n",
    "from matplotlib import pyplot as plt\n",
    "from pathlib import Path\n",
    "from PIL import Image\n",
    "import random\n",
    "import scipy\n",
    "from sklearn.linear_model import SGDClassifier\n",
    "from sklearn.utils import shuffle\n",
    "from sklearn.preprocessing import StandardScaler\n",
    "from sklearn.pipeline import make_pipeline\n",
    "from sklearn.model_selection import learning_curve\n",
    "import time\n",
    "from torchvision.models import resnet18, ResNet18_Weights\n",
    "from torch.nn import Identity\n",
    "from torchvision.io import read_image\n",
    "from torchvision import transforms\n",
    "import torch\n",
    "from tqdm import tqdm\n",
    "\n",
    "%load_ext autoreload\n",
    "%autoreload 2"
   ]
  },
  {
   "cell_type": "markdown",
   "id": "85a62d9f",
   "metadata": {},
   "source": [
    "## Data\n",
    "\n",
    "The dataset should (be downloaded)[https://ai.stanford.edu/~jkrause/cars/car_dataset.html] and extracted into a `data/` folder at the project root.  "
   ]
  },
  {
   "cell_type": "code",
   "execution_count": 2,
   "id": "ad9a8738",
   "metadata": {},
   "outputs": [],
   "source": [
    "DATA_PATH = Path(\"data\")"
   ]
  },
  {
   "cell_type": "markdown",
   "id": "7cd87d44",
   "metadata": {},
   "source": [
    "### TASK 1 - Build a function that converts a labelled dataset into labelled and unlabelled subsets."
   ]
  },
  {
   "cell_type": "code",
   "execution_count": 82,
   "id": "1f47c7f9",
   "metadata": {},
   "outputs": [],
   "source": [
    "def get_labelled_and_unlabelled_indexes(\n",
    "    dataset_labels,\n",
    "    proportion\n",
    "):\n",
    "    if 0 >= proportion >= 1:\n",
    "        raise ValueError(\"`proportion` should be a float between 0 and 1.\")\n",
    "\n",
    "    split_index = int(len(dataset_labels) * (1 - proportion))\n",
    "    unique_classes = np.unique(dataset_labels).tolist()\n",
    "    \n",
    "    if split_index < len(unique_classes):\n",
    "        min_proportion = len(unique_classes) / len(dataset_labels)\n",
    "        raise ValueError(\n",
    "            f\"The proportion should be greater than {min_proportion} to ensure\" \\\n",
    "            \"all unique classes have at least one instance labelled.\"\n",
    "        )\n",
    "        \n",
    "    dataset_indexes = np.arange(0, len(dataset_labels))\n",
    "    \n",
    "    while True:\n",
    "        random.shuffle(dataset_indexes)\n",
    "    \n",
    "        labelled_indexes = dataset_indexes[:split_index]\n",
    "        unlabelled_indexes = dataset_indexes[split_index:]\n",
    "    \n",
    "        # Make sure at least one instance of each class is labelled\n",
    "        if np.unique(np.array(dataset_labels)[labelled_indexes]).tolist() == unique_classes:\n",
    "            break\n",
    "    \n",
    "    return labelled_indexes, unlabelled_indexes "
   ]
  },
  {
   "cell_type": "markdown",
   "id": "dbe0c644",
   "metadata": {},
   "source": [
    "### TASK 2 - Data cleaning"
   ]
  },
  {
   "cell_type": "code",
   "execution_count": 116,
   "id": "2e0f1ad1",
   "metadata": {},
   "outputs": [
    {
     "name": "stdout",
     "output_type": "stream",
     "text": [
      "Deleting data/cars_train/05713.jpg (is not an RGB image).\n",
      "Deleting data/cars_train/03439.jpg (is not an RGB image).\n",
      "Deleting data/cars_train/08144.jpg (is not an RGB image).\n",
      "Deleting data/cars_train/05502.jpg (is not an RGB image).\n",
      "Deleting data/cars_train/04848.jpg (is not an RGB image).\n",
      "Deleting data/cars_train/03048.jpg (is not an RGB image).\n",
      "Deleting data/cars_train/03539.jpg (is not an RGB image).\n",
      "Deleting data/cars_train/07774.jpg (is not an RGB image).\n",
      "Deleting data/cars_train/05177.jpg (is not an RGB image).\n",
      "Deleting data/cars_train/08137.jpg (is not an RGB image).\n",
      "Deleting data/cars_train/02176.jpg (is not an RGB image).\n",
      "Deleting data/cars_train/01085.jpg (is not an RGB image).\n",
      "Deleting data/cars_train/07383.jpg (is not an RGB image).\n",
      "Deleting data/cars_train/03469.jpg (is not an RGB image).\n",
      "Deleting data/cars_train/06947.jpg (is not an RGB image).\n",
      "Deleting data/cars_train/00266.jpg (is not an RGB image).\n",
      "Deleting data/cars_train/04577.jpg (is not an RGB image).\n",
      "Deleting data/cars_train/07693.jpg (is not an RGB image).\n",
      ">>> Deleted 18 files in data/cars_train.\n",
      "Deleting data/cars_test/04209.jpg (is not an RGB image).\n",
      "Deleting data/cars_test/03216.jpg (is not an RGB image).\n",
      "Deleting data/cars_test/00726.jpg (is not an RGB image).\n",
      "Deleting data/cars_test/06912.jpg (is not an RGB image).\n",
      "Deleting data/cars_test/00034.jpg (is not an RGB image).\n",
      "Deleting data/cars_test/00545.jpg (is not an RGB image).\n",
      "Deleting data/cars_test/02408.jpg (is not an RGB image).\n",
      "Deleting data/cars_test/04858.jpg (is not an RGB image).\n",
      "Deleting data/cars_test/04316.jpg (is not an RGB image).\n",
      "Deleting data/cars_test/04288.jpg (is not an RGB image).\n",
      "Deleting data/cars_test/01917.jpg (is not an RGB image).\n",
      "Deleting data/cars_test/05635.jpg (is not an RGB image).\n",
      "Deleting data/cars_test/03246.jpg (is not an RGB image).\n",
      "Deleting data/cars_test/01569.jpg (is not an RGB image).\n",
      "Deleting data/cars_test/04006.jpg (is not an RGB image).\n",
      "Deleting data/cars_test/07043.jpg (is not an RGB image).\n",
      ">>> Deleted 16 files in data/cars_test.\n"
     ]
    }
   ],
   "source": [
    "def delete_non_RGB_images(image_path):\n",
    "    delete_count = 0\n",
    "    for filename in image_path.iterdir():\n",
    "        image = Image.open(filename)\n",
    "        if image.mode == \"RGB\":\n",
    "            continue\n",
    "            \n",
    "        print(f\"Deleting {filename} (is not an RGB image).\")\n",
    "        filename.unlink()\n",
    "        delete_count += 1\n",
    "\n",
    "    print(f\">>> Deleted {delete_count} files in {image_path}.\")\n",
    "\n",
    "    \n",
    "for image_path in [\n",
    "    DATA_PATH / \"cars_train\", \n",
    "    DATA_PATH / \"cars_test\", \n",
    "]:\n",
    "    delete_non_RGB_images(image_path)"
   ]
  },
  {
   "cell_type": "markdown",
   "id": "18e9d05f",
   "metadata": {},
   "source": [
    "### TASK 3 - Dataset representation"
   ]
  },
  {
   "cell_type": "code",
   "execution_count": 117,
   "id": "c0b63957",
   "metadata": {},
   "outputs": [
    {
     "name": "stdout",
     "output_type": "stream",
     "text": [
      "8126 images in data/cars_train.\n"
     ]
    }
   ],
   "source": [
    "def load_images(image_path):\n",
    "    images = {}\n",
    "    for filename in image_path.iterdir():\n",
    "        # Directly load images as tensors\n",
    "        images[filename.name] = read_image(str(filename))\n",
    "    \n",
    "    print(f\"{len(images)} images in {image_path}.\")\n",
    "    \n",
    "    return images    \n",
    "\n",
    "train_images = load_images(DATA_PATH / \"cars_train\")"
   ]
  },
  {
   "cell_type": "code",
   "execution_count": 118,
   "id": "30d183cf",
   "metadata": {},
   "outputs": [],
   "source": [
    "def load_annotation_files(filename):\n",
    "    data = scipy.io.loadmat(filename)[\"annotations\"][0]\n",
    "    \n",
    "    annotations = {}\n",
    "    for d in data:\n",
    "        image_filename = d[-1][0]\n",
    "        _class = d[-2][0][0]\n",
    "        \n",
    "        annotations[image_filename] = _class\n",
    "    \n",
    "    return annotations\n",
    "        \n",
    "train_annotations = load_annotation_files(DATA_PATH / \"devkit\" / \"cars_train_annos.mat\")"
   ]
  },
  {
   "cell_type": "code",
   "execution_count": 119,
   "id": "391f81b4",
   "metadata": {},
   "outputs": [],
   "source": [
    "def prepare_model():\n",
    "    model = resnet18(weights=ResNet18_Weights.DEFAULT)\n",
    "    # Replace last layer\n",
    "    model.fc = Identity()\n",
    "    \n",
    "    return model.eval()\n",
    "\n",
    "model = prepare_model()"
   ]
  },
  {
   "cell_type": "code",
   "execution_count": 9,
   "id": "abab831d",
   "metadata": {},
   "outputs": [
    {
     "name": "stderr",
     "output_type": "stream",
     "text": [
      "100%|████████████████████████████████████████████████████████████████████████████████████████████████████████████████████████████████████████████| 8126/8126 [02:15<00:00, 59.92it/s]\n"
     ]
    }
   ],
   "source": [
    "def prepare_dataset(model, transform, images, annotations):\n",
    "    dataset = {}\n",
    "    for i, (image_filename, image) in enumerate(tqdm(images.items())):\n",
    "        if image_filename not in annotations:\n",
    "            print(image_filename)\n",
    "            continue\n",
    "        \n",
    "        x = image / 256\n",
    "        x = transform(x)\n",
    "        x = x.float()\n",
    "        x = x.unsqueeze(0)\n",
    "        \n",
    "        embedding = model(x).detach()\n",
    "        embedding = embedding[0].numpy()\n",
    "        \n",
    "        dataset[i] = {\n",
    "            \"embedding\": embedding, \n",
    "            \"class_idx\": annotations[image_filename], \n",
    "            \"labelled\": True\n",
    "        }\n",
    "        \n",
    "    return dataset\n",
    "    \n",
    "dataset = prepare_dataset(\n",
    "    model=model, \n",
    "    transform=ResNet18_Weights.DEFAULT.transforms(), \n",
    "    images=train_images, \n",
    "    annotations=train_annotations\n",
    ")\n",
    "torch.save(dataset, DATA_PATH / \"dataset.pt\")\n",
    "\n",
    "# dataset = torch.load(DATA_PATH / \"dataset.pt\")"
   ]
  },
  {
   "cell_type": "markdown",
   "id": "df73f022",
   "metadata": {},
   "source": [
    "### TASK 4 - Build a partially labelled dataset"
   ]
  },
  {
   "cell_type": "code",
   "execution_count": 120,
   "id": "c72bbe69",
   "metadata": {},
   "outputs": [
    {
     "name": "stdout",
     "output_type": "stream",
     "text": [
      "3250 labelled items (40)%\n",
      "4876 unlabelled items (60)%\n"
     ]
    }
   ],
   "source": [
    "dataset_inputs, dataset_labels = zip(*[\n",
    "    (d[\"embedding\"], d[\"class_idx\"]) for d in dataset.values()\n",
    "])\n",
    "    \n",
    "labelled_indexes, unlabelled_indexes = get_labelled_and_unlabelled_indexes(\n",
    "    dataset_labels,\n",
    "    0.6\n",
    ")\n",
    "\n",
    "print(f\"{len(labelled_indexes)} labelled items ({round(len(labelled_indexes) / len(dataset_labels) * 100)})%\")\n",
    "print(f\"{len(unlabelled_indexes)} unlabelled items ({round(len(unlabelled_indexes) / len(dataset_labels) * 100)})%\")"
   ]
  },
  {
   "cell_type": "markdown",
   "id": "996b3b8d",
   "metadata": {},
   "source": [
    "### TASK 5 - Create train/validation split"
   ]
  },
  {
   "cell_type": "code",
   "execution_count": 121,
   "id": "d769375d",
   "metadata": {},
   "outputs": [],
   "source": [
    "def split_dataset(\n",
    "    dataset_inputs,\n",
    "    dataset_labels,\n",
    "    training_proportion\n",
    "):\n",
    "    if 0 >= training_proportion >= 1:\n",
    "        raise ValueError(\"`training_proportion` should be a float between 0 and 1.\")\n",
    "    \n",
    "    index_split = int(len(dataset_inputs) * training_proportion)\n",
    "    \n",
    "    training_inputs = dataset_inputs[:index_split]\n",
    "    training_labels = dataset_labels[:index_split]\n",
    "    \n",
    "    valid_inputs = dataset_inputs[index_split:]\n",
    "    valid_labels = dataset_labels[index_split:]\n",
    "    \n",
    "    return training_inputs, training_labels, valid_inputs, valid_labels"
   ]
  },
  {
   "cell_type": "markdown",
   "id": "dd5b307b",
   "metadata": {},
   "source": [
    "### TASK 6 - Create experiment(s) to convince clients that more labelled data will improve model performance "
   ]
  },
  {
   "cell_type": "code",
   "execution_count": 157,
   "id": "a941fa30",
   "metadata": {},
   "outputs": [
    {
     "name": "stdout",
     "output_type": "stream",
     "text": [
      "Train: 2600 samples (32% original dataset)\n",
      "Valid: 650 samples (8% original dataset)\n",
      "\n",
      "Classifier trained in 7.81 seconds.\n",
      "\n",
      "Training score: 0.974\n",
      "Validation score: 0.185\n"
     ]
    }
   ],
   "source": [
    "def select_items(my_list, selected_indexes):\n",
    "    selected_items = [\n",
    "        item for i, item in enumerate(my_list) if i in selected_indexes\n",
    "    ]\n",
    "    \n",
    "    return selected_items\n",
    "\n",
    "def train_model(X_train, y_train, X_valid, y_valid, max_iteration=1000, verbose=0):\n",
    "    classifier = make_pipeline(\n",
    "        StandardScaler(),\n",
    "        SGDClassifier(\n",
    "            loss=\"modified_huber\", \n",
    "            max_iter=max_iteration,  \n",
    "            tol=5e-4, \n",
    "            penalty=\"l2\", \n",
    "            verbose=verbose, \n",
    "            random_state=1\n",
    "        )\n",
    "    )\n",
    "    \n",
    "    t0 = time.time()\n",
    "    classifier.fit(X_train, y_train)\n",
    "    t1 = time.time()\n",
    "    \n",
    "    print(f\"Classifier trained in {round(t1 - t0, 2)} seconds.\")\n",
    "    \n",
    "    train_score = classifier.score(X_train, y_train)\n",
    "    valid_score = classifier.score(X_valid, y_valid)\n",
    "    \n",
    "    return classifier, train_score, valid_score\n",
    "\n",
    "dataset_inputs_labelled = select_items(dataset_inputs, labelled_indexes)\n",
    "dataset_labels_labelled = select_items(dataset_labels, labelled_indexes)\n",
    "\n",
    "X_train, y_train, X_valid, y_valid = split_dataset(\n",
    "    dataset_inputs_labelled,\n",
    "    dataset_labels_labelled,\n",
    "    training_proportion=0.8\n",
    ")\n",
    "\n",
    "print(f\"Train: {len(X_train)} samples ({round(len(X_train) / len(dataset_inputs) * 100)}% original dataset)\")\n",
    "print(f\"Valid: {len(X_valid)} samples ({round(len(X_valid) / len(dataset_inputs) * 100)}% original dataset)\\n\")\n",
    "\n",
    "classifier, train_score, valid_score = train_model(\n",
    "    X_train, \n",
    "    y_train, \n",
    "    X_valid, \n",
    "    y_valid, \n",
    "    max_iteration=10000, \n",
    "    verbose=0\n",
    ")\n",
    "print(f\"\\nTraining score: {round(train_score, 3)}\")\n",
    "print(f\"Validation score: {round(valid_score, 3)}\")"
   ]
  },
  {
   "cell_type": "markdown",
   "id": "b86a9d3a",
   "metadata": {},
   "source": [
    "Here, we try to select the most important features based on the variance accross the whole dataset. The hyposthesis is that the resnet18 embedding may have useless features to describe different type of cars since they are most likely similar in the embedding space. We try to reduce the input dimension so that the model can focus on relevent features. \n",
    "\n",
    "Unfortunately, this solution does not seem to be efficient here, since the validation score is even lower. "
   ]
  },
  {
   "cell_type": "code",
   "execution_count": 158,
   "id": "dcc3f851",
   "metadata": {},
   "outputs": [
    {
     "name": "stdout",
     "output_type": "stream",
     "text": [
      "Selected 458/512 features.\n",
      "Classifier trained in 7.13 seconds.\n",
      "\n",
      "Training score: 0.967\n",
      "Validation score: 0.183\n"
     ]
    }
   ],
   "source": [
    "minimal_variance = 0.1\n",
    "\n",
    "features_variance = np.var(dataset_inputs, axis=0)\n",
    "most_import_features_index = np.where(features_variance > minimal_variance)[0]\n",
    "print(f\"Selected {len(most_import_features_index)}/{len(features_variance)} features.\")\n",
    "\n",
    "X_train_reduced = [x[most_import_features_index] for x in X_train]\n",
    "X_valid_reduced = [x[most_import_features_index] for x in X_valid]\n",
    "\n",
    "classifier, train_score, valid_score = train_model(\n",
    "    X_train_reduced, \n",
    "    y_train, \n",
    "    X_valid_reduced, \n",
    "    y_valid, \n",
    "    max_iteration=10000, \n",
    "    verbose=0\n",
    ")\n",
    "print(f\"\\nTraining score: {round(train_score, 3)}\")\n",
    "print(f\"Validation score: {round(valid_score, 3)}\")"
   ]
  },
  {
   "cell_type": "code",
   "execution_count": 159,
   "id": "763931eb",
   "metadata": {},
   "outputs": [
    {
     "name": "stdout",
     "output_type": "stream",
     "text": [
      "Classifier trained in 0.66 seconds.\n",
      "Classifier trained in 1.6 seconds.\n",
      "Classifier trained in 3.12 seconds.\n",
      "Classifier trained in 4.99 seconds.\n"
     ]
    }
   ],
   "source": [
    "train_scores = []\n",
    "valid_scores = []\n",
    "\n",
    "train_sizes = [\n",
    "    int(ratio * len(X_train)) for ratio in np.arange(0.2, 1, 0.2)\n",
    "]\n",
    "\n",
    "for n in train_sizes:\n",
    "    classifier, train_score, valid_score = train_model(\n",
    "        X_train[:n], \n",
    "        y_train[:n], \n",
    "        X_valid, \n",
    "        y_valid, \n",
    "        max_iteration=10000, \n",
    "        verbose=0\n",
    "    )\n",
    "    \n",
    "    train_scores.append(train_score)\n",
    "    valid_scores.append(valid_score)"
   ]
  },
  {
   "cell_type": "code",
   "execution_count": 160,
   "id": "d24824f0",
   "metadata": {},
   "outputs": [
    {
     "data": {
      "text/plain": [
       "<matplotlib.legend.Legend at 0x13f649d30>"
      ]
     },
     "execution_count": 160,
     "metadata": {},
     "output_type": "execute_result"
    },
    {
     "data": {
      "image/png": "[encoded data removed]",
      "text/plain": [
       "<Figure size 1200x600 with 1 Axes>"
      ]
     },
     "metadata": {},
     "output_type": "display_data"
    }
   ],
   "source": [
    "fig, ax = plt.subplots(figsize=(12, 6))\n",
    "ax.plot(\n",
    "    train_sizes, \n",
    "    train_scores, \n",
    "    label=\"Training score\",\n",
    "    marker=\"o\", \n",
    "    color=\"r\"\n",
    ")\n",
    "ax.plot(\n",
    "    train_sizes, \n",
    "    valid_scores, \n",
    "    label=\"Validaion score\", \n",
    "    marker=\"o\", \n",
    "    color=\"g\"\n",
    ")\n",
    "ax.set_xlabel(\"Training examples\")\n",
    "ax.set_ylabel(\"Accuracy\")\n",
    "ax.set_title(\"Learning Curves\")\n",
    "ax.legend(loc=\"best\")"
   ]
  },
  {
   "cell_type": "markdown",
   "id": "4301078b",
   "metadata": {},
   "source": [
    "Here, we present our classifiers learning curves. More specifically, we observe the training (red) and validation (green) scores with an increasing number of training samples. Here, the training score curve shows that the classifier can effectively learn features from the training set. However, we observe a big gap between the training and validation curve. That gap indicates that the model is unable to generalize to unseen data. Still, we note that the validation score is increasing with additional training data. \n",
    "\n",
    "This leads us to think that more data would help the model perform better. "
   ]
  },
  {
   "cell_type": "markdown",
   "id": "1bd0e76e",
   "metadata": {},
   "source": [
    "### TASK 7 - Active learning to select new instances to be labelled"
   ]
  },
  {
   "cell_type": "code",
   "execution_count": 161,
   "id": "9dceb69d",
   "metadata": {},
   "outputs": [
    {
     "name": "stdout",
     "output_type": "stream",
     "text": [
      "Selected 2031 samples (25% original dataset)\n"
     ]
    }
   ],
   "source": [
    "X_candidates = select_items(dataset_inputs, unlabelled_indexes)\n",
    "y_candidates = select_items(dataset_labels, unlabelled_indexes)\n",
    "\n",
    "K_candidates = int(len(dataset_inputs) * 0.25)\n",
    "\n",
    "probabilities = classifier.predict_proba(X_candidates)\n",
    "entropies = scipy.stats.entropy(probabilities, axis=1)\n",
    "\n",
    "selected_candidate_indexes = np.argsort(entropies).tolist()[-K_candidates:]\n",
    "\n",
    "print(f\"Selected {K_candidates} samples ({round(K_candidates / len(dataset_inputs) * 100)}% original dataset)\")"
   ]
  },
  {
   "cell_type": "markdown",
   "id": "760ceaf8",
   "metadata": {},
   "source": [
    "In active learning, the goal is to select the most uncertain samples to be labelled. Here, we define the uncertainty as the entropy of the predition probability. If the the probability prediction have a high entropy, it means that the model is confused. \n",
    "\n",
    "Here, we directly selected the K candidates where the entropy was the highest. We could have done it iteratively, ie that we gradually label more data, retrain the classifier, and select new candidates based on the entropy."
   ]
  },
  {
   "cell_type": "markdown",
   "id": "b282aec2",
   "metadata": {},
   "source": [
    "### TASK 8 - Final model training and evaluation"
   ]
  },
  {
   "cell_type": "code",
   "execution_count": 162,
   "id": "32c376f7",
   "metadata": {},
   "outputs": [
    {
     "name": "stdout",
     "output_type": "stream",
     "text": [
      "Train: 4631 samples (57% original dataset)\n",
      "Valid: 650 samples (8% original dataset)\n",
      "\n",
      "FINAL VALID SCORE 0.226\n"
     ]
    }
   ],
   "source": [
    "X_extra = select_items(dataset_inputs, selected_candidate_indexes)\n",
    "y_extra = select_items(dataset_labels, selected_candidate_indexes)\n",
    "\n",
    "X_final = X_train + X_extra\n",
    "y_final = y_train + y_extra\n",
    "\n",
    "print(f\"Train: {len(X_final)} samples ({round(len(X_final) / len(dataset_inputs) * 100)}% original dataset)\")\n",
    "print(f\"Valid: {len(X_valid)} samples ({round(len(X_valid) / len(dataset_inputs) * 100)}% original dataset)\\n\")\n",
    "\n",
    "classifier.fit(X_final, y_final)\n",
    "\n",
    "# We want our validation set to remain the same\n",
    "valid_score = classifier.score(X_valid, y_valid)\n",
    "\n",
    "print(f\"FINAL VALID SCORE {round(valid_score, 3)}\")"
   ]
  },
  {
   "cell_type": "markdown",
   "id": "ddf536a3",
   "metadata": {},
   "source": [
    "The final performance of our model is 23% of accuracy. \n",
    "\n",
    "For any application, this level of performance is considered extremely poor. As as a result, we think that the decision to label more data was not a good one. \n",
    "\n",
    "However, this final score was to be expected. In fact, given the poor performance with 40% of the data labelled (more or less 0.2 accuracy), it is no surprise that labelling 25% more of the original dataset helped improve the performance, but not did not bring it to a satisfactory level.\n",
    "\n",
    "\n",
    "TODO: explain your solution"
   ]
  }
 ],
 "metadata": {
  "kernelspec": {
   "display_name": "Python 3 (ipykernel)",
   "language": "python",
   "name": "python3"
  },
  "language_info": {
   "codemirror_mode": {
    "name": "ipython",
    "version": 3
   },
   "file_extension": ".py",
   "mimetype": "text/x-python",
   "name": "python",
   "nbconvert_exporter": "python",
   "pygments_lexer": "ipython3",
   "version": "3.8.15"
  }
 },
 "nbformat": 4,
 "nbformat_minor": 5
}
