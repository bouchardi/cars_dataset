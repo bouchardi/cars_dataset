{
 "cells": [
  {
   "cell_type": "markdown",
   "id": "ca79e59a",
   "metadata": {},
   "source": [
    "# Cars Dataset"
   ]
  },
  {
   "cell_type": "code",
   "execution_count": 77,
   "id": "c2c65b8a",
   "metadata": {},
   "outputs": [
    {
     "name": "stdout",
     "output_type": "stream",
     "text": [
      "The autoreload extension is already loaded. To reload it, use:\n",
      "  %reload_ext autoreload\n"
     ]
    }
   ],
   "source": [
    "from collections import Counter\n",
    "import numpy as np\n",
    "from matplotlib import pyplot as plt\n",
    "from pathlib import Path\n",
    "from PIL import Image\n",
    "import random\n",
    "import scipy\n",
    "from sklearn.linear_model import SGDClassifier\n",
    "from sklearn.utils import shuffle\n",
    "from sklearn.preprocessing import StandardScaler\n",
    "from sklearn.dummy import DummyClassifier\n",
    "from sklearn.pipeline import make_pipeline\n",
    "from sklearn.model_selection import learning_curve\n",
    "import time\n",
    "from torchvision.models import resnet18, ResNet18_Weights\n",
    "from torch.nn import Identity\n",
    "from torchvision.io import read_image\n",
    "from torchvision import transforms\n",
    "import torch\n",
    "from tqdm import tqdm\n",
    "\n",
    "%load_ext autoreload\n",
    "%autoreload 2"
   ]
  },
  {
   "cell_type": "markdown",
   "id": "85a62d9f",
   "metadata": {},
   "source": [
    "## Data\n",
    "\n",
    "The dataset should (be downloaded)[https://ai.stanford.edu/~jkrause/cars/car_dataset.html] and extracted into a `data/` folder at the project root.  "
   ]
  },
  {
   "cell_type": "code",
   "execution_count": 2,
   "id": "ad9a8738",
   "metadata": {},
   "outputs": [],
   "source": [
    "DATA_PATH = Path(\"data\")"
   ]
  },
  {
   "cell_type": "markdown",
   "id": "7cd87d44",
   "metadata": {},
   "source": [
    "### TASK 1 - Build a function that converts a labelled dataset into labelled and unlabelled subsets."
   ]
  },
  {
   "cell_type": "code",
   "execution_count": 3,
   "id": "1f47c7f9",
   "metadata": {},
   "outputs": [],
   "source": [
    "def get_labelled_and_unlabelled_indexes(\n",
    "    dataset_labels,\n",
    "    proportion\n",
    "):\n",
    "    if 0 >= proportion >= 1:\n",
    "        raise ValueError(\"`proportion` should be a float between 0 and 1.\")\n",
    "\n",
    "    split_index = int(len(dataset_labels) * (1 - proportion))\n",
    "    unique_classes = np.unique(dataset_labels).tolist()\n",
    "    \n",
    "    if split_index < len(unique_classes):\n",
    "        min_proportion = len(unique_classes) / len(dataset_labels)\n",
    "        raise ValueError(\n",
    "            f\"The proportion should be greater than {min_proportion} to ensure\" \\\n",
    "            \"all unique classes have at least one instance labelled.\"\n",
    "        )\n",
    "        \n",
    "    dataset_indexes = np.arange(0, len(dataset_labels))\n",
    "    \n",
    "    while True:\n",
    "        random.shuffle(dataset_indexes)\n",
    "    \n",
    "        labelled_indexes = dataset_indexes[:split_index]\n",
    "        unlabelled_indexes = dataset_indexes[split_index:]\n",
    "    \n",
    "        # Make sure at least one instance of each class is labelled\n",
    "        if np.unique(np.array(dataset_labels)[labelled_indexes]).tolist() == unique_classes:\n",
    "            break\n",
    "    \n",
    "    return labelled_indexes, unlabelled_indexes "
   ]
  },
  {
   "cell_type": "markdown",
   "id": "dbe0c644",
   "metadata": {},
   "source": [
    "### TASK 2 - Data cleaning"
   ]
  },
  {
   "cell_type": "code",
   "execution_count": 116,
   "id": "2e0f1ad1",
   "metadata": {},
   "outputs": [
    {
     "name": "stdout",
     "output_type": "stream",
     "text": [
      "Deleting data/cars_train/05713.jpg (is not an RGB image).\n",
      "Deleting data/cars_train/03439.jpg (is not an RGB image).\n",
      "Deleting data/cars_train/08144.jpg (is not an RGB image).\n",
      "Deleting data/cars_train/05502.jpg (is not an RGB image).\n",
      "Deleting data/cars_train/04848.jpg (is not an RGB image).\n",
      "Deleting data/cars_train/03048.jpg (is not an RGB image).\n",
      "Deleting data/cars_train/03539.jpg (is not an RGB image).\n",
      "Deleting data/cars_train/07774.jpg (is not an RGB image).\n",
      "Deleting data/cars_train/05177.jpg (is not an RGB image).\n",
      "Deleting data/cars_train/08137.jpg (is not an RGB image).\n",
      "Deleting data/cars_train/02176.jpg (is not an RGB image).\n",
      "Deleting data/cars_train/01085.jpg (is not an RGB image).\n",
      "Deleting data/cars_train/07383.jpg (is not an RGB image).\n",
      "Deleting data/cars_train/03469.jpg (is not an RGB image).\n",
      "Deleting data/cars_train/06947.jpg (is not an RGB image).\n",
      "Deleting data/cars_train/00266.jpg (is not an RGB image).\n",
      "Deleting data/cars_train/04577.jpg (is not an RGB image).\n",
      "Deleting data/cars_train/07693.jpg (is not an RGB image).\n",
      ">>> Deleted 18 files in data/cars_train.\n",
      "Deleting data/cars_test/04209.jpg (is not an RGB image).\n",
      "Deleting data/cars_test/03216.jpg (is not an RGB image).\n",
      "Deleting data/cars_test/00726.jpg (is not an RGB image).\n",
      "Deleting data/cars_test/06912.jpg (is not an RGB image).\n",
      "Deleting data/cars_test/00034.jpg (is not an RGB image).\n",
      "Deleting data/cars_test/00545.jpg (is not an RGB image).\n",
      "Deleting data/cars_test/02408.jpg (is not an RGB image).\n",
      "Deleting data/cars_test/04858.jpg (is not an RGB image).\n",
      "Deleting data/cars_test/04316.jpg (is not an RGB image).\n",
      "Deleting data/cars_test/04288.jpg (is not an RGB image).\n",
      "Deleting data/cars_test/01917.jpg (is not an RGB image).\n",
      "Deleting data/cars_test/05635.jpg (is not an RGB image).\n",
      "Deleting data/cars_test/03246.jpg (is not an RGB image).\n",
      "Deleting data/cars_test/01569.jpg (is not an RGB image).\n",
      "Deleting data/cars_test/04006.jpg (is not an RGB image).\n",
      "Deleting data/cars_test/07043.jpg (is not an RGB image).\n",
      ">>> Deleted 16 files in data/cars_test.\n"
     ]
    }
   ],
   "source": [
    "def delete_non_RGB_images(image_path):\n",
    "    delete_count = 0\n",
    "    for filename in image_path.iterdir():\n",
    "        image = Image.open(filename)\n",
    "        if image.mode == \"RGB\":\n",
    "            continue\n",
    "            \n",
    "        print(f\"Deleting {filename} (is not an RGB image).\")\n",
    "        filename.unlink()\n",
    "        delete_count += 1\n",
    "\n",
    "    print(f\">>> Deleted {delete_count} files in {image_path}.\")\n",
    "\n",
    "    \n",
    "for image_path in [\n",
    "    DATA_PATH / \"cars_train\", \n",
    "    DATA_PATH / \"cars_test\", \n",
    "]:\n",
    "    delete_non_RGB_images(image_path)"
   ]
  },
  {
   "cell_type": "markdown",
   "id": "18e9d05f",
   "metadata": {},
   "source": [
    "### TASK 3 - Dataset representation"
   ]
  },
  {
   "cell_type": "markdown",
   "id": "504dcd57",
   "metadata": {},
   "source": [
    "Here, we directly load images as pytorch tensors. We keep them in a dictionary where the image filename is the key and the tensor is the value."
   ]
  },
  {
   "cell_type": "code",
   "execution_count": 4,
   "id": "c0b63957",
   "metadata": {},
   "outputs": [
    {
     "name": "stdout",
     "output_type": "stream",
     "text": [
      "8126 images in data/cars_train.\n"
     ]
    }
   ],
   "source": [
    "def load_images(image_path):\n",
    "    images = {}\n",
    "    for filename in image_path.iterdir():\n",
    "        # Directly load images as tensors\n",
    "        images[filename.name] = read_image(str(filename))\n",
    "    \n",
    "    print(f\"{len(images)} images in {image_path}.\")\n",
    "    \n",
    "    return images    \n",
    "\n",
    "train_images = load_images(DATA_PATH / \"cars_train\")"
   ]
  },
  {
   "cell_type": "markdown",
   "id": "dce8b404",
   "metadata": {},
   "source": [
    "We load the annotations and store them in a dictionnary where the image filename is the key and the classification is the value."
   ]
  },
  {
   "cell_type": "code",
   "execution_count": 5,
   "id": "30d183cf",
   "metadata": {},
   "outputs": [],
   "source": [
    "def load_annotation_files(filename):\n",
    "    data = scipy.io.loadmat(filename)[\"annotations\"][0]\n",
    "    \n",
    "    annotations = {}\n",
    "    for d in data:\n",
    "        image_filename = d[-1][0]\n",
    "        _class = d[-2][0][0]\n",
    "        \n",
    "        annotations[image_filename] = _class\n",
    "    \n",
    "    return annotations\n",
    "        \n",
    "train_annotations = load_annotation_files(DATA_PATH / \"devkit\" / \"cars_train_annos.mat\")"
   ]
  },
  {
   "cell_type": "markdown",
   "id": "b3f2f998",
   "metadata": {},
   "source": [
    "Here, we load and print the corresponding classes. As we can see, classes are very granular. "
   ]
  },
  {
   "cell_type": "code",
   "execution_count": 75,
   "id": "bb2a9abb",
   "metadata": {},
   "outputs": [
    {
     "name": "stdout",
     "output_type": "stream",
     "text": [
      "['AM General Hummer SUV 2000', 'Acura RL Sedan 2012', 'Acura TL Sedan 2012', 'Acura TL Type-S 2008', 'Acura TSX Sedan 2012', 'Acura Integra Type R 2001', 'Acura ZDX Hatchback 2012', 'Aston Martin V8 Vantage Convertible 2012', 'Aston Martin V8 Vantage Coupe 2012', 'Aston Martin Virage Convertible 2012', 'Aston Martin Virage Coupe 2012', 'Audi RS 4 Convertible 2008', 'Audi A5 Coupe 2012', 'Audi TTS Coupe 2012', 'Audi R8 Coupe 2012', 'Audi V8 Sedan 1994', 'Audi 100 Sedan 1994', 'Audi 100 Wagon 1994', 'Audi TT Hatchback 2011', 'Audi S6 Sedan 2011', 'Audi S5 Convertible 2012', 'Audi S5 Coupe 2012', 'Audi S4 Sedan 2012', 'Audi S4 Sedan 2007', 'Audi TT RS Coupe 2012', 'BMW ActiveHybrid 5 Sedan 2012', 'BMW 1 Series Convertible 2012', 'BMW 1 Series Coupe 2012', 'BMW 3 Series Sedan 2012', 'BMW 3 Series Wagon 2012', 'BMW 6 Series Convertible 2007', 'BMW X5 SUV 2007', 'BMW X6 SUV 2012', 'BMW M3 Coupe 2012', 'BMW M5 Sedan 2010', 'BMW M6 Convertible 2010', 'BMW X3 SUV 2012', 'BMW Z4 Convertible 2012', 'Bentley Continental Supersports Conv. Convertible 2012', 'Bentley Arnage Sedan 2009', 'Bentley Mulsanne Sedan 2011', 'Bentley Continental GT Coupe 2012', 'Bentley Continental GT Coupe 2007', 'Bentley Continental Flying Spur Sedan 2007', 'Bugatti Veyron 16.4 Convertible 2009', 'Bugatti Veyron 16.4 Coupe 2009', 'Buick Regal GS 2012', 'Buick Rainier SUV 2007', 'Buick Verano Sedan 2012', 'Buick Enclave SUV 2012', 'Cadillac CTS-V Sedan 2012', 'Cadillac SRX SUV 2012', 'Cadillac Escalade EXT Crew Cab 2007', 'Chevrolet Silverado 1500 Hybrid Crew Cab 2012', 'Chevrolet Corvette Convertible 2012', 'Chevrolet Corvette ZR1 2012', 'Chevrolet Corvette Ron Fellows Edition Z06 2007', 'Chevrolet Traverse SUV 2012', 'Chevrolet Camaro Convertible 2012', 'Chevrolet HHR SS 2010', 'Chevrolet Impala Sedan 2007', 'Chevrolet Tahoe Hybrid SUV 2012', 'Chevrolet Sonic Sedan 2012', 'Chevrolet Express Cargo Van 2007', 'Chevrolet Avalanche Crew Cab 2012', 'Chevrolet Cobalt SS 2010', 'Chevrolet Malibu Hybrid Sedan 2010', 'Chevrolet TrailBlazer SS 2009', 'Chevrolet Silverado 2500HD Regular Cab 2012', 'Chevrolet Silverado 1500 Classic Extended Cab 2007', 'Chevrolet Express Van 2007', 'Chevrolet Monte Carlo Coupe 2007', 'Chevrolet Malibu Sedan 2007', 'Chevrolet Silverado 1500 Extended Cab 2012', 'Chevrolet Silverado 1500 Regular Cab 2012', 'Chrysler Aspen SUV 2009', 'Chrysler Sebring Convertible 2010', 'Chrysler Town and Country Minivan 2012', 'Chrysler 300 SRT-8 2010', 'Chrysler Crossfire Convertible 2008', 'Chrysler PT Cruiser Convertible 2008', 'Daewoo Nubira Wagon 2002', 'Dodge Caliber Wagon 2012', 'Dodge Caliber Wagon 2007', 'Dodge Caravan Minivan 1997', 'Dodge Ram Pickup 3500 Crew Cab 2010', 'Dodge Ram Pickup 3500 Quad Cab 2009', 'Dodge Sprinter Cargo Van 2009', 'Dodge Journey SUV 2012', 'Dodge Dakota Crew Cab 2010', 'Dodge Dakota Club Cab 2007', 'Dodge Magnum Wagon 2008', 'Dodge Challenger SRT8 2011', 'Dodge Durango SUV 2012', 'Dodge Durango SUV 2007', 'Dodge Charger Sedan 2012', 'Dodge Charger SRT-8 2009', 'Eagle Talon Hatchback 1998', 'FIAT 500 Abarth 2012', 'FIAT 500 Convertible 2012', 'Ferrari FF Coupe 2012', 'Ferrari California Convertible 2012', 'Ferrari 458 Italia Convertible 2012', 'Ferrari 458 Italia Coupe 2012', 'Fisker Karma Sedan 2012', 'Ford F-450 Super Duty Crew Cab 2012', 'Ford Mustang Convertible 2007', 'Ford Freestar Minivan 2007', 'Ford Expedition EL SUV 2009', 'Ford Edge SUV 2012', 'Ford Ranger SuperCab 2011', 'Ford GT Coupe 2006', 'Ford F-150 Regular Cab 2012', 'Ford F-150 Regular Cab 2007', 'Ford Focus Sedan 2007', 'Ford E-Series Wagon Van 2012', 'Ford Fiesta Sedan 2012', 'GMC Terrain SUV 2012', 'GMC Savana Van 2012', 'GMC Yukon Hybrid SUV 2012', 'GMC Acadia SUV 2012', 'GMC Canyon Extended Cab 2012', 'Geo Metro Convertible 1993', 'HUMMER H3T Crew Cab 2010', 'HUMMER H2 SUT Crew Cab 2009', 'Honda Odyssey Minivan 2012', 'Honda Odyssey Minivan 2007', 'Honda Accord Coupe 2012', 'Honda Accord Sedan 2012', 'Hyundai Veloster Hatchback 2012', 'Hyundai Santa Fe SUV 2012', 'Hyundai Tucson SUV 2012', 'Hyundai Veracruz SUV 2012', 'Hyundai Sonata Hybrid Sedan 2012', 'Hyundai Elantra Sedan 2007', 'Hyundai Accent Sedan 2012', 'Hyundai Genesis Sedan 2012', 'Hyundai Sonata Sedan 2012', 'Hyundai Elantra Touring Hatchback 2012', 'Hyundai Azera Sedan 2012', 'Infiniti G Coupe IPL 2012', 'Infiniti QX56 SUV 2011', 'Isuzu Ascender SUV 2008', 'Jaguar XK XKR 2012', 'Jeep Patriot SUV 2012', 'Jeep Wrangler SUV 2012', 'Jeep Liberty SUV 2012', 'Jeep Grand Cherokee SUV 2012', 'Jeep Compass SUV 2012', 'Lamborghini Reventon Coupe 2008', 'Lamborghini Aventador Coupe 2012', 'Lamborghini Gallardo LP 570-4 Superleggera 2012', 'Lamborghini Diablo Coupe 2001', 'Land Rover Range Rover SUV 2012', 'Land Rover LR2 SUV 2012', 'Lincoln Town Car Sedan 2011', 'MINI Cooper Roadster Convertible 2012', 'Maybach Landaulet Convertible 2012', 'Mazda Tribute SUV 2011', 'McLaren MP4-12C Coupe 2012', 'Mercedes-Benz 300-Class Convertible 1993', 'Mercedes-Benz C-Class Sedan 2012', 'Mercedes-Benz SL-Class Coupe 2009', 'Mercedes-Benz E-Class Sedan 2012', 'Mercedes-Benz S-Class Sedan 2012', 'Mercedes-Benz Sprinter Van 2012', 'Mitsubishi Lancer Sedan 2012', 'Nissan Leaf Hatchback 2012', 'Nissan NV Passenger Van 2012', 'Nissan Juke Hatchback 2012', 'Nissan 240SX Coupe 1998', 'Plymouth Neon Coupe 1999', 'Porsche Panamera Sedan 2012', 'Ram C/V Cargo Van Minivan 2012', 'Rolls-Royce Phantom Drophead Coupe Convertible 2012', 'Rolls-Royce Ghost Sedan 2012', 'Rolls-Royce Phantom Sedan 2012', 'Scion xD Hatchback 2012', 'Spyker C8 Convertible 2009', 'Spyker C8 Coupe 2009', 'Suzuki Aerio Sedan 2007', 'Suzuki Kizashi Sedan 2012', 'Suzuki SX4 Hatchback 2012', 'Suzuki SX4 Sedan 2012', 'Tesla Model S Sedan 2012', 'Toyota Sequoia SUV 2012', 'Toyota Camry Sedan 2012', 'Toyota Corolla Sedan 2012', 'Toyota 4Runner SUV 2012', 'Volkswagen Golf Hatchback 2012', 'Volkswagen Golf Hatchback 1991', 'Volkswagen Beetle Hatchback 2012', 'Volvo C30 Hatchback 2012', 'Volvo 240 Sedan 1993', 'Volvo XC90 SUV 2007', 'smart fortwo Convertible 2012']\n"
     ]
    }
   ],
   "source": [
    "def load_annotation_metadata_files(filename):\n",
    "    data = scipy.io.loadmat(filename)[\"class_names\"][0]\n",
    "    metadata = [d[0] for d in data]\n",
    "    \n",
    "    return metadata\n",
    "    \n",
    "\n",
    "metadata = load_annotation_metadata_files(DATA_PATH / \"devkit\" / \"cars_meta.mat\")\n",
    "print(metadata)"
   ]
  },
  {
   "cell_type": "markdown",
   "id": "dfb36b2a",
   "metadata": {},
   "source": [
    "We load a pretrained resnet18 with the default weights (ImageNet). We replace the last fully convolutional layer with a pass-trough layer and we set the model to evaluation mode."
   ]
  },
  {
   "cell_type": "code",
   "execution_count": 119,
   "id": "391f81b4",
   "metadata": {},
   "outputs": [],
   "source": [
    "def prepare_model():\n",
    "    model = resnet18(weights=ResNet18_Weights.DEFAULT)\n",
    "    # Replace last layer\n",
    "    model.fc = Identity()\n",
    "    \n",
    "    return model.eval()\n",
    "\n",
    "model = prepare_model()"
   ]
  },
  {
   "cell_type": "markdown",
   "id": "e1d7eec2",
   "metadata": {},
   "source": [
    "For each image in the dataset, we apply transformations so that the input is similar to the ones the model has been trained on. We save the embedding in a dictionnary, along with the classification and a flag to indicate if the data point is labelled or not. \n",
    "\n",
    "We then save the result on disk."
   ]
  },
  {
   "cell_type": "code",
   "execution_count": 6,
   "id": "abab831d",
   "metadata": {},
   "outputs": [],
   "source": [
    "def prepare_dataset(model, transform, images, annotations):\n",
    "    dataset = {}\n",
    "    for i, (image_filename, image) in enumerate(tqdm(images.items())):\n",
    "        \n",
    "        if image_filename not in annotations:\n",
    "            print(image_filename)\n",
    "            continue\n",
    "        \n",
    "        x = image / 256\n",
    "        x = transform(x)\n",
    "        x = x.float()\n",
    "        x = x.unsqueeze(0)\n",
    "        \n",
    "        embedding = model(x).detach()\n",
    "        embedding = embedding[0].numpy()\n",
    "        \n",
    "        dataset[i] = {\n",
    "            \"embedding\": embedding, \n",
    "            \"class_idx\": annotations[image_filename], \n",
    "            \"labelled\": True\n",
    "        }\n",
    "        \n",
    "    return dataset\n",
    "    \n",
    "dataset = prepare_dataset(\n",
    "    model=model, \n",
    "    transform=ResNet18_Weights.DEFAULT.transforms(), \n",
    "    images=train_images, \n",
    "    annotations=train_annotations\n",
    ")\n",
    "\n",
    "torch.save(dataset, DATA_PATH / \"dataset.pt\")\n",
    "\n",
    "# dataset = torch.load(DATA_PATH / \"dataset.pt\")"
   ]
  },
  {
   "cell_type": "markdown",
   "id": "0656bdcb",
   "metadata": {},
   "source": [
    "Inputing the right data transformation is key to produce consistent embedding using a pretrained network. And it's quite tricky to assess if your embedding is corrupted or not. Here, we simply proceed to a sanity check of the full resnet18 classification (with the original fc layer). We verify that the imagenet classification is consistent. We only check the first 50 samples.  \n",
    "\n",
    "Here are the classes predicted by the model. We can conclude that the embedding is consistent and capture the nature of the input image as expected. \n",
    "\n",
    "- 436: beach wagon, station wagon, wagon, estate car, beach waggon, station wagg, waggon\n",
    "- 468: cab, hack, taxi, taxicab\n",
    "- 511: convertible\n",
    "- 581: grille, radiator grille\n",
    "- 609: jeep, landrover\n",
    "- 627: limousine, limo\n",
    "- 654: minibus\n",
    "- 656: minivan\n",
    "- 717: pickup, pickup truck\n",
    "- 817: sports car, sport car\n",
    "- 864: tow truck, tow car, wrecker"
   ]
  },
  {
   "cell_type": "code",
   "execution_count": 29,
   "id": "25197ed8",
   "metadata": {},
   "outputs": [
    {
     "name": "stdout",
     "output_type": "stream",
     "text": [
      "Counter({817: 12, 656: 11, 436: 6, 511: 6, 717: 3, 581: 3, 468: 3, 627: 3, 654: 2, 609: 1, 864: 1})\n"
     ]
    }
   ],
   "source": [
    "def embedding_sanity_check(transform, images):\n",
    "    model = resnet18(weights=ResNet18_Weights.DEFAULT)\n",
    "    model = model.eval()\n",
    "    \n",
    "    predictions = []\n",
    "    for i, (image_filename, image) in enumerate(images.items()):\n",
    "        \n",
    "        x = image / 256\n",
    "        x = transform(x)\n",
    "        x = x.float()\n",
    "        x = x.unsqueeze(0)\n",
    "        \n",
    "        image_net_classification = model(x).detach()[0]\n",
    "        prediction = image_net_classification.argmax().item()\n",
    "        predictions.append(prediction)\n",
    "        \n",
    "        if i == 50:\n",
    "            break\n",
    "    \n",
    "    print(Counter(predictions))\n",
    "\n",
    "embedding_sanity_check(\n",
    "    transform=ResNet18_Weights.DEFAULT.transforms(), \n",
    "    images=train_images\n",
    ")"
   ]
  },
  {
   "cell_type": "markdown",
   "id": "df73f022",
   "metadata": {},
   "source": [
    "### TASK 4 - Build a partially labelled dataset"
   ]
  },
  {
   "cell_type": "code",
   "execution_count": 30,
   "id": "c72bbe69",
   "metadata": {},
   "outputs": [
    {
     "name": "stdout",
     "output_type": "stream",
     "text": [
      "3250 labelled items (40)%\n",
      "4876 unlabelled items (60)%\n"
     ]
    }
   ],
   "source": [
    "def select_items(my_list, selected_indexes):\n",
    "    selected_items = [\n",
    "        item for i, item in enumerate(my_list) if i in selected_indexes\n",
    "    ]\n",
    "    \n",
    "    return selected_items\n",
    "\n",
    "dataset_inputs, dataset_labels = zip(*[\n",
    "    (d[\"embedding\"], d[\"class_idx\"]) for d in dataset.values()\n",
    "])\n",
    "    \n",
    "labelled_indexes, unlabelled_indexes = get_labelled_and_unlabelled_indexes(\n",
    "    dataset_labels,\n",
    "    0.6\n",
    ")\n",
    "\n",
    "dataset_inputs_labelled = select_items(dataset_inputs, labelled_indexes)\n",
    "dataset_labels_labelled = select_items(dataset_labels, labelled_indexes)\n",
    "\n",
    "print(f\"{len(labelled_indexes)} labelled items ({round(len(labelled_indexes) / len(dataset_labels) * 100)})%\")\n",
    "print(f\"{len(unlabelled_indexes)} unlabelled items ({round(len(unlabelled_indexes) / len(dataset_labels) * 100)})%\")"
   ]
  },
  {
   "cell_type": "markdown",
   "id": "996b3b8d",
   "metadata": {},
   "source": [
    "### TASK 5 - Create train/validation split"
   ]
  },
  {
   "cell_type": "markdown",
   "id": "425e182f",
   "metadata": {},
   "source": [
    "Since data is already shuffled, we simply slice data based on the index that splits the data in the defined training proportion. "
   ]
  },
  {
   "cell_type": "code",
   "execution_count": 8,
   "id": "d769375d",
   "metadata": {},
   "outputs": [],
   "source": [
    "def split_dataset(\n",
    "    dataset_inputs,\n",
    "    dataset_labels,\n",
    "    training_proportion\n",
    "):\n",
    "    if 0 >= training_proportion >= 1:\n",
    "        raise ValueError(\"`training_proportion` should be a float between 0 and 1.\")\n",
    "    \n",
    "    index_split = int(len(dataset_inputs) * training_proportion)\n",
    "    \n",
    "    training_inputs = dataset_inputs[:index_split]\n",
    "    training_labels = dataset_labels[:index_split]\n",
    "    \n",
    "    valid_inputs = dataset_inputs[index_split:]\n",
    "    valid_labels = dataset_labels[index_split:]\n",
    "    \n",
    "    return training_inputs, training_labels, valid_inputs, valid_labels"
   ]
  },
  {
   "cell_type": "markdown",
   "id": "dd5b307b",
   "metadata": {},
   "source": [
    "### TASK 6 - Create experiment(s) to convince clients that more labelled data will improve model performance "
   ]
  },
  {
   "cell_type": "markdown",
   "id": "1e37c62b",
   "metadata": {},
   "source": [
    "Here, we split our dataset into a training set (85% of the labelled data) and a validation set (15% of the labelled data). We then train a an SGD classifier, and return both the training and the validation score. Note that we also apply a Standard Scaler to our embedding before its passed to the model.\n",
    "\n",
    "Here we have a hold out validation set. But we could have instead performed a cross-validation to use all of our labelled samples during training. "
   ]
  },
  {
   "cell_type": "code",
   "execution_count": 67,
   "id": "a941fa30",
   "metadata": {},
   "outputs": [
    {
     "name": "stdout",
     "output_type": "stream",
     "text": [
      "Train: 2762 samples (34% original dataset)\n",
      "Valid: 488 samples (6% original dataset)\n",
      "\n",
      "Classifier trained in 8.39 seconds.\n",
      "\n",
      "Training score: 0.96\n",
      "Validation score: 0.18\n"
     ]
    }
   ],
   "source": [
    "def train_model(X_train, y_train, X_valid, y_valid, max_iteration=10000, verbose=0):\n",
    "    classifier = make_pipeline(\n",
    "        StandardScaler(),\n",
    "        SGDClassifier(\n",
    "            loss=\"modified_huber\", \n",
    "            max_iter=max_iteration,  \n",
    "            shuffle=True,\n",
    "            tol=1e-4, \n",
    "            penalty=\"l2\",\n",
    "            verbose=verbose,\n",
    "            class_weight=\"balanced\",\n",
    "            random_state=1\n",
    "        )\n",
    "    )\n",
    "    \n",
    "    t0 = time.time()\n",
    "    classifier.fit(X_train, y_train)\n",
    "    t1 = time.time()\n",
    "    \n",
    "    print(f\"Classifier trained in {round(t1 - t0, 2)} seconds.\")\n",
    "    \n",
    "    train_score = classifier.score(X_train, y_train)\n",
    "    valid_score = classifier.score(X_valid, y_valid)\n",
    "    \n",
    "    return classifier, train_score, valid_score\n",
    "\n",
    "\n",
    "X_train, y_train, X_valid, y_valid = split_dataset(\n",
    "    dataset_inputs_labelled,\n",
    "    dataset_labels_labelled,\n",
    "    training_proportion=0.85\n",
    ")\n",
    "\n",
    "print(f\"Train: {len(X_train)} samples ({round(len(X_train) / len(dataset_inputs) * 100)}% original dataset)\")\n",
    "print(f\"Valid: {len(X_valid)} samples ({round(len(X_valid) / len(dataset_inputs) * 100)}% original dataset)\\n\")\n",
    "\n",
    "classifier, train_score, valid_score = train_model(\n",
    "    X_train, \n",
    "    y_train, \n",
    "    X_valid, \n",
    "    y_valid, \n",
    "    max_iteration=1000, \n",
    "    verbose=0\n",
    ")\n",
    "print(f\"\\nTraining score: {round(train_score, 3)}\")\n",
    "print(f\"Validation score: {round(valid_score, 3)}\")"
   ]
  },
  {
   "cell_type": "markdown",
   "id": "ad787c0c",
   "metadata": {},
   "source": [
    "Again, we perform another sanity check by comparing the performance of a dummy model to set a lower bound to the expected accuracy. The dummy model accuracy is below 1%. In comparison to this score, we can assume that our model is effectively learning _something_. "
   ]
  },
  {
   "cell_type": "code",
   "execution_count": 78,
   "id": "44eabbdb",
   "metadata": {},
   "outputs": [
    {
     "name": "stdout",
     "output_type": "stream",
     "text": [
      "\n",
      "Training score: 0.008\n",
      "Validation score: 0.002\n"
     ]
    }
   ],
   "source": [
    "def train_model(X_train, y_train, X_valid, y_valid, max_iteration=10000, verbose=0):\n",
    "    classifier = DummyClassifier()\n",
    "    classifier.fit(X_train, y_train)\n",
    "    train_score = classifier.score(X_train, y_train)\n",
    "    valid_score = classifier.score(X_valid, y_valid)\n",
    "    \n",
    "    return classifier, train_score, valid_score\n",
    "\n",
    "classifier, train_score, valid_score = train_model(\n",
    "    X_train, \n",
    "    y_train, \n",
    "    X_valid, \n",
    "    y_valid, \n",
    "    max_iteration=1000, \n",
    "    verbose=0\n",
    ")\n",
    "print(f\"\\nTraining score: {round(train_score, 3)}\")\n",
    "print(f\"Validation score: {round(valid_score, 3)}\")"
   ]
  },
  {
   "cell_type": "markdown",
   "id": "b86a9d3a",
   "metadata": {},
   "source": [
    "Here, we try to select the most important features based on the variance accross the whole dataset. The hypothesis is that the resnet18 embedding may have useless features to describe different type of cars since they are most likely similar in the embedding space. We try to reduce the input dimension so that the model can focus on relevent features. \n",
    "\n",
    "Unfortunately, this solution does not seem to be efficient here, since the validation score is even lower. "
   ]
  },
  {
   "cell_type": "code",
   "execution_count": 70,
   "id": "dcc3f851",
   "metadata": {},
   "outputs": [
    {
     "name": "stdout",
     "output_type": "stream",
     "text": [
      "Selected 390/512 features.\n",
      "\n",
      "Classifier trained in 6.9 seconds.\n",
      "\n",
      "Training score: 0.941\n",
      "Validation score: 0.17\n"
     ]
    }
   ],
   "source": [
    "minimal_variance = 0.15\n",
    "\n",
    "features_variance = np.var(dataset_inputs, axis=0)\n",
    "most_import_features_index = np.where(features_variance > minimal_variance)[0]\n",
    "print(f\"Selected {len(most_import_features_index)}/{len(features_variance)} features.\\n\")\n",
    "\n",
    "X_train_reduced = [x[most_import_features_index] for x in X_train]\n",
    "X_valid_reduced = [x[most_import_features_index] for x in X_valid]\n",
    "\n",
    "classifier, train_score, valid_score = train_model(\n",
    "    X_train_reduced, \n",
    "    y_train, \n",
    "    X_valid_reduced, \n",
    "    y_valid, \n",
    "    verbose=0\n",
    ")\n",
    "print(f\"\\nTraining score: {round(train_score, 3)}\")\n",
    "print(f\"Validation score: {round(valid_score, 3)}\")"
   ]
  },
  {
   "cell_type": "markdown",
   "id": "8eb504ea",
   "metadata": {},
   "source": [
    "Finally, we train classifiers with an increasing number of samples and a static validation set. "
   ]
  },
  {
   "cell_type": "code",
   "execution_count": 71,
   "id": "763931eb",
   "metadata": {},
   "outputs": [
    {
     "name": "stdout",
     "output_type": "stream",
     "text": [
      "Classifier trained in 0.72 seconds.\n",
      "Classifier trained in 1.74 seconds.\n",
      "Classifier trained in 3.34 seconds.\n",
      "Classifier trained in 5.44 seconds.\n"
     ]
    }
   ],
   "source": [
    "train_scores = []\n",
    "valid_scores = []\n",
    "\n",
    "train_sizes = [\n",
    "    int(ratio * len(X_train)) for ratio in np.arange(0.2, 1, 0.2)\n",
    "]\n",
    "\n",
    "for n in train_sizes:\n",
    "    classifier, train_score, valid_score = train_model(\n",
    "        X_train[:n], \n",
    "        y_train[:n], \n",
    "        X_valid, \n",
    "        y_valid, \n",
    "        verbose=0\n",
    "    )\n",
    "    \n",
    "    train_scores.append(train_score)\n",
    "    valid_scores.append(valid_score)"
   ]
  },
  {
   "cell_type": "markdown",
   "id": "4301078b",
   "metadata": {},
   "source": [
    "We use the training and validation scores to produce a plot of our classifiers learning curve. More specifically, we observe the training (red) and validation (green) scores with an increasing number of training samples. Here, the training score curve shows that the classifier can effectively learn features from the training set. However, we observe a big gap between the training and validation curve. That gap indicates that the model is unable to generalize to unseen data. Still, we note that the validation score is increasing with additional training data. \n",
    "\n",
    "This could lead us to think that more data would help the model perform better on the validation set. "
   ]
  },
  {
   "cell_type": "code",
   "execution_count": 72,
   "id": "d24824f0",
   "metadata": {},
   "outputs": [
    {
     "data": {
      "text/plain": [
       "<matplotlib.legend.Legend at 0x580344cd0>"
      ]
     },
     "execution_count": 72,
     "metadata": {},
     "output_type": "execute_result"
    },
    {
     "data": {
      "image/png": "[encoded data removed]",
      "text/plain": [
       "<Figure size 1200x600 with 1 Axes>"
      ]
     },
     "metadata": {},
     "output_type": "display_data"
    }
   ],
   "source": [
    "fig, ax = plt.subplots(figsize=(12, 6))\n",
    "ax.plot(\n",
    "    train_sizes, \n",
    "    train_scores, \n",
    "    label=\"Training score\",\n",
    "    marker=\"o\", \n",
    "    color=\"r\"\n",
    ")\n",
    "ax.plot(\n",
    "    train_sizes, \n",
    "    valid_scores, \n",
    "    label=\"Validaion score\", \n",
    "    marker=\"o\", \n",
    "    color=\"g\"\n",
    ")\n",
    "ax.set_xlabel(\"Training examples\")\n",
    "ax.set_ylabel(\"Accuracy\")\n",
    "ax.set_title(\"Learning Curves\")\n",
    "ax.legend(loc=\"best\")"
   ]
  },
  {
   "cell_type": "markdown",
   "id": "1bd0e76e",
   "metadata": {},
   "source": [
    "### TASK 7 - Active learning to select new instances to be labelled"
   ]
  },
  {
   "cell_type": "markdown",
   "id": "760ceaf8",
   "metadata": {},
   "source": [
    "In active learning, the goal is to select the most uncertain samples to be labelled. Here, we define the uncertainty as the entropy of the predition probability. If the the probability prediction have a high entropy, it means that the model is confused. \n",
    "\n",
    "Here, we directly selected the K most uncertain candidates according to our model trained on 40% of the original dataset. Active learning can also be done iteratively. One could select k (where k is smaller than K) candidates, retrain the classifier on the new dataset, and repeat the process with the newly trained classifier. However, incremental active learning is tedious to implement in practice, because you need to gather labels between each model runs. "
   ]
  },
  {
   "cell_type": "code",
   "execution_count": 73,
   "id": "9dceb69d",
   "metadata": {},
   "outputs": [
    {
     "name": "stdout",
     "output_type": "stream",
     "text": [
      "Selected 2031 new samples (25% original dataset)\n"
     ]
    }
   ],
   "source": [
    "X_candidates = select_items(dataset_inputs, unlabelled_indexes)\n",
    "y_candidates = select_items(dataset_labels, unlabelled_indexes)\n",
    "\n",
    "K_candidates = int(len(dataset_inputs) * 0.25)\n",
    "\n",
    "probabilities = classifier.predict_proba(X_candidates)\n",
    "entropies = scipy.stats.entropy(probabilities, axis=1)\n",
    "\n",
    "selected_candidate_indexes = np.argsort(entropies).tolist()[-K_candidates:]\n",
    "\n",
    "print(f\"Selected {K_candidates} new samples ({round(K_candidates / len(dataset_inputs) * 100)}% original dataset)\")"
   ]
  },
  {
   "cell_type": "markdown",
   "id": "b282aec2",
   "metadata": {},
   "source": [
    "### TASK 8 - Final model training and evaluation"
   ]
  },
  {
   "cell_type": "markdown",
   "id": "ddf536a3",
   "metadata": {},
   "source": [
    "Here, we retrain our model on our original train set and the additional candidates selected with active learning. Our validation set remains the same so that we can compare the evolution over time. \n",
    "\n",
    "The final performance of our model is 21.3% of accuracy.\n",
    "\n",
    "For any application, this level of performance is considered extremely poor. As as a result, we think that the decision to label more data was not a good one. \n",
    "\n",
    "However, this final score was to be expected.  Before the addition of data, the model performance was 17%. \n",
    "It is no surprise that labelling 25% more of the original dataset did not completely fill the gap of performance. It did helped improve the performance, but not did not bring it to a satisfactory level.\n",
    "\n",
    "In fact, our learning curves indicate that the model is in an undefitting regime and that the model capacity is probably not sufficient to learn to classify the cars. \n",
    "\n",
    "Learning the very granular classes is indeed a very complex task. Also, the resnet18 might or might not contain such granular information. A more promising approach would be to finetune the entire resnet18 model pretrained on imagenet to produce by replacing the last fully convolutional layer to output our own set of classes. "
   ]
  },
  {
   "cell_type": "code",
   "execution_count": 74,
   "id": "2b09a493",
   "metadata": {},
   "outputs": [
    {
     "name": "stdout",
     "output_type": "stream",
     "text": [
      "Train: 4793 samples (59% original dataset)\n",
      "Valid: 488 samples (6% original dataset)\n",
      "\n",
      "Classifier trained in 21.09 seconds.\n",
      "FINAL TRAIN SCORE 0.898\n",
      "FINAL VALID SCORE 0.213\n"
     ]
    }
   ],
   "source": [
    "X_extra = select_items(dataset_inputs, selected_candidate_indexes)\n",
    "y_extra = select_items(dataset_labels, selected_candidate_indexes)\n",
    "\n",
    "X_final = X_train + X_extra\n",
    "y_final = y_train + y_extra\n",
    "\n",
    "print(f\"Train: {len(X_final)} samples ({round(len(X_final) / len(dataset_inputs) * 100)}% original dataset)\")\n",
    "print(f\"Valid: {len(X_valid)} samples ({round(len(X_valid) / len(dataset_inputs) * 100)}% original dataset)\\n\")\n",
    "\n",
    "classifier, train_score, valid_score = train_model(\n",
    "    X_final, \n",
    "    y_final, \n",
    "    X_valid, \n",
    "    y_valid, \n",
    "    verbose=0\n",
    ")\n",
    "\n",
    "print(f\"FINAL TRAIN SCORE {round(train_score, 3)}\")\n",
    "print(f\"FINAL VALID SCORE {round(valid_score, 3)}\")"
   ]
  }
 ],
 "metadata": {
  "kernelspec": {
   "display_name": "Python 3 (ipykernel)",
   "language": "python",
   "name": "python3"
  },
  "language_info": {
   "codemirror_mode": {
    "name": "ipython",
    "version": 3
   },
   "file_extension": ".py",
   "mimetype": "text/x-python",
   "name": "python",
   "nbconvert_exporter": "python",
   "pygments_lexer": "ipython3",
   "version": "3.8.15"
  }
 },
 "nbformat": 4,
 "nbformat_minor": 5
}
